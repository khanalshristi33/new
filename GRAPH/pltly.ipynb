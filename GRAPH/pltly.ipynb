{
 "cells": [
  {
   "cell_type": "code",
   "execution_count": 28,
   "id": "64ca9e15",
   "metadata": {},
   "outputs": [],
   "source": [
    "import plotly.express as px\n",
    "import seaborn as sns\n",
    "import pandas as pd"
   ]
  },
  {
   "cell_type": "code",
   "execution_count": 35,
   "id": "6408b0ea",
   "metadata": {},
   "outputs": [
    {
     "data": {
      "text/html": [
       "<div>\n",
       "<style scoped>\n",
       "    .dataframe tbody tr th:only-of-type {\n",
       "        vertical-align: middle;\n",
       "    }\n",
       "\n",
       "    .dataframe tbody tr th {\n",
       "        vertical-align: top;\n",
       "    }\n",
       "\n",
       "    .dataframe thead th {\n",
       "        text-align: right;\n",
       "    }\n",
       "</style>\n",
       "<table border=\"1\" class=\"dataframe\">\n",
       "  <thead>\n",
       "    <tr style=\"text-align: right;\">\n",
       "      <th></th>\n",
       "      <th>Game</th>\n",
       "      <th>Year</th>\n",
       "      <th>Genre</th>\n",
       "      <th>Publisher</th>\n",
       "      <th>North America</th>\n",
       "      <th>Europe</th>\n",
       "      <th>Japan</th>\n",
       "      <th>Rest of World</th>\n",
       "      <th>Global</th>\n",
       "    </tr>\n",
       "  </thead>\n",
       "  <tbody>\n",
       "    <tr>\n",
       "      <th>0</th>\n",
       "      <td>Grand Theft Auto V</td>\n",
       "      <td>2014.0</td>\n",
       "      <td>Action</td>\n",
       "      <td>Rockstar Games</td>\n",
       "      <td>6.06</td>\n",
       "      <td>9.71</td>\n",
       "      <td>0.60</td>\n",
       "      <td>3.02</td>\n",
       "      <td>19.39</td>\n",
       "    </tr>\n",
       "    <tr>\n",
       "      <th>1</th>\n",
       "      <td>Call of Duty: Black Ops 3</td>\n",
       "      <td>2015.0</td>\n",
       "      <td>Shooter</td>\n",
       "      <td>Activision</td>\n",
       "      <td>6.18</td>\n",
       "      <td>6.05</td>\n",
       "      <td>0.41</td>\n",
       "      <td>2.44</td>\n",
       "      <td>15.09</td>\n",
       "    </tr>\n",
       "    <tr>\n",
       "      <th>2</th>\n",
       "      <td>Red Dead Redemption 2</td>\n",
       "      <td>2018.0</td>\n",
       "      <td>Action-Adventure</td>\n",
       "      <td>Rockstar Games</td>\n",
       "      <td>5.26</td>\n",
       "      <td>6.21</td>\n",
       "      <td>0.21</td>\n",
       "      <td>2.26</td>\n",
       "      <td>13.94</td>\n",
       "    </tr>\n",
       "    <tr>\n",
       "      <th>3</th>\n",
       "      <td>Call of Duty: WWII</td>\n",
       "      <td>2017.0</td>\n",
       "      <td>Shooter</td>\n",
       "      <td>Activision</td>\n",
       "      <td>4.67</td>\n",
       "      <td>6.21</td>\n",
       "      <td>0.40</td>\n",
       "      <td>2.12</td>\n",
       "      <td>13.40</td>\n",
       "    </tr>\n",
       "    <tr>\n",
       "      <th>4</th>\n",
       "      <td>FIFA 18</td>\n",
       "      <td>2017.0</td>\n",
       "      <td>Sports</td>\n",
       "      <td>EA Sports</td>\n",
       "      <td>1.27</td>\n",
       "      <td>8.64</td>\n",
       "      <td>0.15</td>\n",
       "      <td>1.73</td>\n",
       "      <td>11.80</td>\n",
       "    </tr>\n",
       "    <tr>\n",
       "      <th>...</th>\n",
       "      <td>...</td>\n",
       "      <td>...</td>\n",
       "      <td>...</td>\n",
       "      <td>...</td>\n",
       "      <td>...</td>\n",
       "      <td>...</td>\n",
       "      <td>...</td>\n",
       "      <td>...</td>\n",
       "      <td>...</td>\n",
       "    </tr>\n",
       "    <tr>\n",
       "      <th>1029</th>\n",
       "      <td>Fallen Legion: Flames of Rebellion</td>\n",
       "      <td>NaN</td>\n",
       "      <td>Role-Playing</td>\n",
       "      <td>NaN</td>\n",
       "      <td>0.00</td>\n",
       "      <td>0.00</td>\n",
       "      <td>0.00</td>\n",
       "      <td>0.00</td>\n",
       "      <td>0.00</td>\n",
       "    </tr>\n",
       "    <tr>\n",
       "      <th>1030</th>\n",
       "      <td>Radial G Racing Revolved</td>\n",
       "      <td>2017.0</td>\n",
       "      <td>Racing</td>\n",
       "      <td>Tammeka Games</td>\n",
       "      <td>0.00</td>\n",
       "      <td>0.00</td>\n",
       "      <td>0.00</td>\n",
       "      <td>0.00</td>\n",
       "      <td>0.00</td>\n",
       "    </tr>\n",
       "    <tr>\n",
       "      <th>1031</th>\n",
       "      <td>The Mummy Demastered</td>\n",
       "      <td>NaN</td>\n",
       "      <td>Action</td>\n",
       "      <td>NaN</td>\n",
       "      <td>0.00</td>\n",
       "      <td>0.00</td>\n",
       "      <td>0.00</td>\n",
       "      <td>0.00</td>\n",
       "      <td>0.00</td>\n",
       "    </tr>\n",
       "    <tr>\n",
       "      <th>1032</th>\n",
       "      <td>Project Nimbus: Code Mirai</td>\n",
       "      <td>NaN</td>\n",
       "      <td>Action</td>\n",
       "      <td>NaN</td>\n",
       "      <td>0.00</td>\n",
       "      <td>0.00</td>\n",
       "      <td>0.00</td>\n",
       "      <td>0.00</td>\n",
       "      <td>0.00</td>\n",
       "    </tr>\n",
       "    <tr>\n",
       "      <th>1033</th>\n",
       "      <td>Battle Chef Brigade</td>\n",
       "      <td>NaN</td>\n",
       "      <td>Action</td>\n",
       "      <td>NaN</td>\n",
       "      <td>0.00</td>\n",
       "      <td>0.00</td>\n",
       "      <td>0.00</td>\n",
       "      <td>0.00</td>\n",
       "      <td>0.00</td>\n",
       "    </tr>\n",
       "  </tbody>\n",
       "</table>\n",
       "<p>1034 rows × 9 columns</p>\n",
       "</div>"
      ],
      "text/plain": [
       "                                    Game    Year             Genre  \\\n",
       "0                     Grand Theft Auto V  2014.0            Action   \n",
       "1              Call of Duty: Black Ops 3  2015.0           Shooter   \n",
       "2                  Red Dead Redemption 2  2018.0  Action-Adventure   \n",
       "3                     Call of Duty: WWII  2017.0           Shooter   \n",
       "4                                FIFA 18  2017.0            Sports   \n",
       "...                                  ...     ...               ...   \n",
       "1029  Fallen Legion: Flames of Rebellion     NaN      Role-Playing   \n",
       "1030            Radial G Racing Revolved  2017.0            Racing   \n",
       "1031                The Mummy Demastered     NaN            Action   \n",
       "1032          Project Nimbus: Code Mirai     NaN            Action   \n",
       "1033                 Battle Chef Brigade     NaN            Action   \n",
       "\n",
       "           Publisher  North America  Europe  Japan  Rest of World  Global  \n",
       "0     Rockstar Games           6.06    9.71   0.60           3.02   19.39  \n",
       "1         Activision           6.18    6.05   0.41           2.44   15.09  \n",
       "2     Rockstar Games           5.26    6.21   0.21           2.26   13.94  \n",
       "3         Activision           4.67    6.21   0.40           2.12   13.40  \n",
       "4          EA Sports           1.27    8.64   0.15           1.73   11.80  \n",
       "...              ...            ...     ...    ...            ...     ...  \n",
       "1029             NaN           0.00    0.00   0.00           0.00    0.00  \n",
       "1030   Tammeka Games           0.00    0.00   0.00           0.00    0.00  \n",
       "1031             NaN           0.00    0.00   0.00           0.00    0.00  \n",
       "1032             NaN           0.00    0.00   0.00           0.00    0.00  \n",
       "1033             NaN           0.00    0.00   0.00           0.00    0.00  \n",
       "\n",
       "[1034 rows x 9 columns]"
      ]
     },
     "execution_count": 35,
     "metadata": {},
     "output_type": "execute_result"
    }
   ],
   "source": [
    "df = pd.read_csv('PS4_GamesSales.csv', encoding='latin1')\n",
    "df"
   ]
  },
  {
   "cell_type": "code",
   "execution_count": 36,
   "id": "8516585a",
   "metadata": {},
   "outputs": [
    {
     "data": {
      "text/plain": [
       "Game               0\n",
       "Year             209\n",
       "Genre              0\n",
       "Publisher        209\n",
       "North America      0\n",
       "Europe             0\n",
       "Japan              0\n",
       "Rest of World      0\n",
       "Global             0\n",
       "dtype: int64"
      ]
     },
     "execution_count": 36,
     "metadata": {},
     "output_type": "execute_result"
    }
   ],
   "source": [
    "df.isnull().sum()"
   ]
  },
  {
   "cell_type": "code",
   "execution_count": 52,
   "id": "9796a9c0",
   "metadata": {},
   "outputs": [
    {
     "ename": "ValueError",
     "evalue": "('None entries cannot have not-None children', ('2K Games', 'Action-Adventure', 'Mafia III', '2016.0', '0.72', '1.67', '0.04', '0.44', '2.87'))",
     "output_type": "error",
     "traceback": [
      "\u001b[0;31m---------------------------------------------------------------------------\u001b[0m",
      "\u001b[0;31mValueError\u001b[0m                                Traceback (most recent call last)",
      "Cell \u001b[0;32mIn[52], line 1\u001b[0m\n\u001b[0;32m----> 1\u001b[0m fig \u001b[38;5;241m=\u001b[39m px\u001b[38;5;241m.\u001b[39msunburst(\n\u001b[1;32m      2\u001b[0m     df,\n\u001b[1;32m      3\u001b[0m     path\u001b[38;5;241m=\u001b[39m[\u001b[38;5;124m\"\u001b[39m\u001b[38;5;124mPublisher\u001b[39m\u001b[38;5;124m\"\u001b[39m, \u001b[38;5;124m\"\u001b[39m\u001b[38;5;124mGenre\u001b[39m\u001b[38;5;124m\"\u001b[39m, \u001b[38;5;124m\"\u001b[39m\u001b[38;5;124mGame\u001b[39m\u001b[38;5;124m\"\u001b[39m, \u001b[38;5;124m\"\u001b[39m\u001b[38;5;124mYear\u001b[39m\u001b[38;5;124m\"\u001b[39m, \u001b[38;5;124m\"\u001b[39m\u001b[38;5;124mNorth America\u001b[39m\u001b[38;5;124m\"\u001b[39m, \u001b[38;5;124m\"\u001b[39m\u001b[38;5;124mEurope\u001b[39m\u001b[38;5;124m\"\u001b[39m, \u001b[38;5;124m\"\u001b[39m\u001b[38;5;124mJapan\u001b[39m\u001b[38;5;124m\"\u001b[39m, \u001b[38;5;124m\"\u001b[39m\u001b[38;5;124mRest of World\u001b[39m\u001b[38;5;124m\"\u001b[39m, \u001b[38;5;124m\"\u001b[39m\u001b[38;5;124mGlobal\u001b[39m\u001b[38;5;124m\"\u001b[39m],   \u001b[38;5;66;03m# hierarchy\u001b[39;00m\n\u001b[1;32m      4\u001b[0m     values\u001b[38;5;241m=\u001b[39m\u001b[38;5;124m\"\u001b[39m\u001b[38;5;124mGlobal\u001b[39m\u001b[38;5;124m\"\u001b[39m,                  \u001b[38;5;66;03m# size of slices\u001b[39;00m\n\u001b[1;32m      5\u001b[0m     color\u001b[38;5;241m=\u001b[39m\u001b[38;5;124m\"\u001b[39m\u001b[38;5;124mGenre\u001b[39m\u001b[38;5;124m\"\u001b[39m,                          \u001b[38;5;66;03m# color by genre\u001b[39;00m\n\u001b[1;32m      6\u001b[0m     title\u001b[38;5;241m=\u001b[39m\u001b[38;5;124m\"\u001b[39m\u001b[38;5;124mPS4 Game Sales - Publisher, Genre, and Title Breakdown\u001b[39m\u001b[38;5;124m\"\u001b[39m\n\u001b[1;32m      7\u001b[0m )\n\u001b[1;32m      9\u001b[0m fig\u001b[38;5;241m.\u001b[39mshow()\n",
      "File \u001b[0;32m/opt/anaconda3/lib/python3.11/site-packages/plotly/express/_chart_types.py:1761\u001b[0m, in \u001b[0;36msunburst\u001b[0;34m(data_frame, names, values, parents, path, ids, color, color_continuous_scale, range_color, color_continuous_midpoint, color_discrete_sequence, color_discrete_map, hover_name, hover_data, custom_data, labels, title, subtitle, template, width, height, branchvalues, maxdepth)\u001b[0m\n\u001b[1;32m   1759\u001b[0m \u001b[38;5;28;01mif\u001b[39;00m path \u001b[38;5;129;01mis\u001b[39;00m \u001b[38;5;129;01mnot\u001b[39;00m \u001b[38;5;28;01mNone\u001b[39;00m \u001b[38;5;129;01mand\u001b[39;00m branchvalues \u001b[38;5;129;01mis\u001b[39;00m \u001b[38;5;28;01mNone\u001b[39;00m:\n\u001b[1;32m   1760\u001b[0m     branchvalues \u001b[38;5;241m=\u001b[39m \u001b[38;5;124m\"\u001b[39m\u001b[38;5;124mtotal\u001b[39m\u001b[38;5;124m\"\u001b[39m\n\u001b[0;32m-> 1761\u001b[0m \u001b[38;5;28;01mreturn\u001b[39;00m make_figure(\n\u001b[1;32m   1762\u001b[0m     args\u001b[38;5;241m=\u001b[39m\u001b[38;5;28mlocals\u001b[39m(),\n\u001b[1;32m   1763\u001b[0m     constructor\u001b[38;5;241m=\u001b[39mgo\u001b[38;5;241m.\u001b[39mSunburst,\n\u001b[1;32m   1764\u001b[0m     trace_patch\u001b[38;5;241m=\u001b[39m\u001b[38;5;28mdict\u001b[39m(branchvalues\u001b[38;5;241m=\u001b[39mbranchvalues, maxdepth\u001b[38;5;241m=\u001b[39mmaxdepth),\n\u001b[1;32m   1765\u001b[0m     layout_patch\u001b[38;5;241m=\u001b[39mlayout_patch,\n\u001b[1;32m   1766\u001b[0m )\n",
      "File \u001b[0;32m/opt/anaconda3/lib/python3.11/site-packages/plotly/express/_core.py:2493\u001b[0m, in \u001b[0;36mmake_figure\u001b[0;34m(args, constructor, trace_patch, layout_patch)\u001b[0m\n\u001b[1;32m   2491\u001b[0m args \u001b[38;5;241m=\u001b[39m build_dataframe(args, constructor)\n\u001b[1;32m   2492\u001b[0m \u001b[38;5;28;01mif\u001b[39;00m constructor \u001b[38;5;129;01min\u001b[39;00m [go\u001b[38;5;241m.\u001b[39mTreemap, go\u001b[38;5;241m.\u001b[39mSunburst, go\u001b[38;5;241m.\u001b[39mIcicle] \u001b[38;5;129;01mand\u001b[39;00m args[\u001b[38;5;124m\"\u001b[39m\u001b[38;5;124mpath\u001b[39m\u001b[38;5;124m\"\u001b[39m] \u001b[38;5;129;01mis\u001b[39;00m \u001b[38;5;129;01mnot\u001b[39;00m \u001b[38;5;28;01mNone\u001b[39;00m:\n\u001b[0;32m-> 2493\u001b[0m     args \u001b[38;5;241m=\u001b[39m process_dataframe_hierarchy(args)\n\u001b[1;32m   2494\u001b[0m \u001b[38;5;28;01mif\u001b[39;00m constructor \u001b[38;5;129;01min\u001b[39;00m [go\u001b[38;5;241m.\u001b[39mPie]:\n\u001b[1;32m   2495\u001b[0m     args, trace_patch \u001b[38;5;241m=\u001b[39m process_dataframe_pie(args, trace_patch)\n",
      "File \u001b[0;32m/opt/anaconda3/lib/python3.11/site-packages/plotly/express/_core.py:1916\u001b[0m, in \u001b[0;36mprocess_dataframe_hierarchy\u001b[0;34m(args)\u001b[0m\n\u001b[1;32m   1914\u001b[0m df: nw\u001b[38;5;241m.\u001b[39mDataFrame \u001b[38;5;241m=\u001b[39m args[\u001b[38;5;124m\"\u001b[39m\u001b[38;5;124mdata_frame\u001b[39m\u001b[38;5;124m\"\u001b[39m]\n\u001b[1;32m   1915\u001b[0m path \u001b[38;5;241m=\u001b[39m args[\u001b[38;5;124m\"\u001b[39m\u001b[38;5;124mpath\u001b[39m\u001b[38;5;124m\"\u001b[39m][::\u001b[38;5;241m-\u001b[39m\u001b[38;5;241m1\u001b[39m]\n\u001b[0;32m-> 1916\u001b[0m _check_dataframe_all_leaves(df[path[::\u001b[38;5;241m-\u001b[39m\u001b[38;5;241m1\u001b[39m]])\n\u001b[1;32m   1917\u001b[0m discrete_color \u001b[38;5;241m=\u001b[39m \u001b[38;5;129;01mnot\u001b[39;00m _is_continuous(df, args[\u001b[38;5;124m\"\u001b[39m\u001b[38;5;124mcolor\u001b[39m\u001b[38;5;124m\"\u001b[39m]) \u001b[38;5;28;01mif\u001b[39;00m args[\u001b[38;5;124m\"\u001b[39m\u001b[38;5;124mcolor\u001b[39m\u001b[38;5;124m\"\u001b[39m] \u001b[38;5;28;01melse\u001b[39;00m \u001b[38;5;28;01mFalse\u001b[39;00m\n\u001b[1;32m   1919\u001b[0m df \u001b[38;5;241m=\u001b[39m df\u001b[38;5;241m.\u001b[39mlazy()\n",
      "File \u001b[0;32m/opt/anaconda3/lib/python3.11/site-packages/plotly/express/_core.py:1871\u001b[0m, in \u001b[0;36m_check_dataframe_all_leaves\u001b[0;34m(df)\u001b[0m\n\u001b[1;32m   1869\u001b[0m         \u001b[38;5;28;01mif\u001b[39;00m nw\u001b[38;5;241m.\u001b[39mto_py_scalar(null_entries_with_non_null_children\u001b[38;5;241m.\u001b[39many()):\n\u001b[1;32m   1870\u001b[0m             row_idx \u001b[38;5;241m=\u001b[39m null_entries_with_non_null_children\u001b[38;5;241m.\u001b[39mto_list()\u001b[38;5;241m.\u001b[39mindex(\u001b[38;5;28;01mTrue\u001b[39;00m)\n\u001b[0;32m-> 1871\u001b[0m             \u001b[38;5;28;01mraise\u001b[39;00m \u001b[38;5;167;01mValueError\u001b[39;00m(\n\u001b[1;32m   1872\u001b[0m                 \u001b[38;5;124m\"\u001b[39m\u001b[38;5;124mNone entries cannot have not-None children\u001b[39m\u001b[38;5;124m\"\u001b[39m,\n\u001b[1;32m   1873\u001b[0m                 df_sorted\u001b[38;5;241m.\u001b[39mrow(row_idx),\n\u001b[1;32m   1874\u001b[0m             )\n\u001b[1;32m   1876\u001b[0m fill_series \u001b[38;5;241m=\u001b[39m nw\u001b[38;5;241m.\u001b[39mnew_series(\n\u001b[1;32m   1877\u001b[0m     name\u001b[38;5;241m=\u001b[39m\u001b[38;5;124m\"\u001b[39m\u001b[38;5;124mfill_value\u001b[39m\u001b[38;5;124m\"\u001b[39m,\n\u001b[1;32m   1878\u001b[0m     values\u001b[38;5;241m=\u001b[39m[\u001b[38;5;124m\"\u001b[39m\u001b[38;5;124m\"\u001b[39m] \u001b[38;5;241m*\u001b[39m \u001b[38;5;28mlen\u001b[39m(df_sorted),\n\u001b[1;32m   1879\u001b[0m     dtype\u001b[38;5;241m=\u001b[39mnw\u001b[38;5;241m.\u001b[39mString(),\n\u001b[1;32m   1880\u001b[0m     native_namespace\u001b[38;5;241m=\u001b[39mnw\u001b[38;5;241m.\u001b[39mget_native_namespace(df_sorted),\n\u001b[1;32m   1881\u001b[0m )\n\u001b[1;32m   1882\u001b[0m df_sorted \u001b[38;5;241m=\u001b[39m df_sorted\u001b[38;5;241m.\u001b[39mwith_columns(\n\u001b[1;32m   1883\u001b[0m     \u001b[38;5;241m*\u001b[39m\u001b[38;5;241m*\u001b[39m{\n\u001b[1;32m   1884\u001b[0m         c: df_sorted\u001b[38;5;241m.\u001b[39mget_column(c)\u001b[38;5;241m.\u001b[39mzip_with(\u001b[38;5;241m~\u001b[39mnull_mask\u001b[38;5;241m.\u001b[39mget_column(c), fill_series)\n\u001b[1;32m   1885\u001b[0m         \u001b[38;5;28;01mfor\u001b[39;00m c \u001b[38;5;129;01min\u001b[39;00m cols\n\u001b[1;32m   1886\u001b[0m     }\n\u001b[1;32m   1887\u001b[0m )\n",
      "\u001b[0;31mValueError\u001b[0m: ('None entries cannot have not-None children', ('2K Games', 'Action-Adventure', 'Mafia III', '2016.0', '0.72', '1.67', '0.04', '0.44', '2.87'))"
     ]
    }
   ],
   "source": [
    "fig = px.sunburst(\n",
    "    df,\n",
    "    path=[\"Publisher\", \"Genre\", \"Game\", \"Year\", \"North America\", \"Europe\", \"Japan\", \"Rest of World\", \"Global\"],   # hierarchy\n",
    "    values=\"Global\",                  # size of slices\n",
    "    color=\"Genre\",                          # color by genre\n",
    "    title=\"PS4 Game Sales - Publisher, Genre, and Title Breakdown\"\n",
    ")\n",
    "\n",
    "fig.show()"
   ]
  },
  {
   "cell_type": "code",
   "execution_count": 65,
   "id": "28b54e1f",
   "metadata": {},
   "outputs": [
    {
     "data": {
      "application/vnd.plotly.v1+json": {
       "config": {
        "plotlyServerURL": "https://plot.ly"
       },
       "data": [
        {
         "hovertemplate": "Genre=Action<br>Game=%{x}<br>Global=%{y}<extra></extra>",
         "legendgroup": "Action",
         "marker": {
          "color": "#636efa",
          "pattern": {
           "shape": ""
          }
         },
         "name": "Action",
         "orientation": "v",
         "showlegend": true,
         "textposition": "auto",
         "type": "bar",
         "x": [
          "Grand Theft Auto V",
          "Uncharted (PS4)",
          "God of War (PS4)",
          "Horizon: Zero Dawn",
          "Uncharted: The Nathan Drake Collection",
          "Monster Hunter: World",
          "Assassin's Creed: Unity",
          "Batman: Arkham Knight",
          "Assassin's Creed Origins",
          "Far Cry 5",
          "Assassin's Creed Syndicate",
          "Watch Dogs 2",
          "Resident Evil VII: Biohazard",
          "Middle-Earth: Shadow of Mordor",
          "Metal Gear Solid V: The Phantom Pain",
          "Dying Light",
          "Uncharted: The Lost Legacy",
          "Middle-Earth: Shadow of War",
          "Dishonored 2",
          "Lego Marvel Super Heroes",
          "The Evil Within",
          "For Honor",
          "Dragon Ball: Xenoverse 2",
          "Mad Max (2013)",
          "LEGO Dimensions",
          "LEGO Jurassic World",
          "LEGO Marvel Super Heroes 2",
          "The Evil Within II",
          "Ni-Oh",
          "LEGO Marvel's Avengers",
          "Lego Batman 3: Beyond Gotham",
          "God of War III",
          "Fortnite",
          "LEGO Harry Potter Collection",
          "Thief 4",
          "Disney Infinity 3.0",
          "ARK: Survival Evolved",
          "Dragon Quest Heroes: The World's Tree Woe and the Blight Below",
          "Assassin's Creed The Ezio Collection",
          "Hitman (2016)",
          "Batman: Return to Arkham"
         ],
         "xaxis": "x",
         "y": {
          "bdata": "pHA9CtdjM0ApXI/C9agkQJqZmZmZmRhASOF6FK5HF0DNzMzMzMwWQK5H4XoUrhJAj8L1KFyPEEBxPQrXo3AQQD0K16NwPRBAmpmZmZmZD0DNzMzMzMwMQOF6FK5H4QpAexSuR+F6CkCF61G4HoUJQFK4HoXrUQhAmpmZmZmZA0D2KFyPwvUCQFK4HoXrUQBAhetRuB6F/z+PwvUoXI/+P8P1KFyPwv0/AAAAAAAA/D8AAAAAAAD4PzMzMzMzM/M/4XoUrkfh8j/hehSuR+HyP8P1KFyPwvE/zczMzMzM8D97FK5H4XrwPylcj8L1KPA/FK5H4XoU7j97FK5H4XrsP3sUrkfheuw/KVyPwvUo7D8zMzMzMzPrPzMzMzMzM+s/7FG4HoXr6T/sUbgehevpP0jhehSuR+k/9ihcj8L16D97FK5H4XrkPw==",
          "dtype": "f8"
         },
         "yaxis": "y"
        },
        {
         "hovertemplate": "Genre=Shooter<br>Game=%{x}<br>Global=%{y}<extra></extra>",
         "legendgroup": "Shooter",
         "marker": {
          "color": "#EF553B",
          "pattern": {
           "shape": ""
          }
         },
         "name": "Shooter",
         "orientation": "v",
         "showlegend": true,
         "textposition": "auto",
         "type": "bar",
         "x": [
          "Call of Duty: Black Ops 3",
          "Call of Duty: WWII",
          "Call of Duty: Infinite Warfare",
          "Star Wars Battlefront 2015",
          "Call of Duty: Advanced Warfare",
          "Battlefield 1",
          "Destiny",
          "Overwatch",
          "Star Wars Battlefront II (2017)",
          "Tom Clancy's The Division",
          "Tom Clancy's Rainbow Six: Siege",
          "Call of Duty: Ghosts",
          "Destiny 2",
          "Far Cry 4",
          "Battlefield 4",
          "Tom Clancy's Ghost Recon Wildlands",
          "Killzone: Shadow Fall",
          "Doom (2016)",
          "Destiny: The Taken King",
          "Battlefield: Hardline",
          "Titanfall 2",
          "The Order: 1886",
          "Wolfenstein: The New Order",
          "Wolfenstein II: The New Colossus",
          "Borderlands: The Handsome Collection",
          "Prey (2017)",
          "Evolve",
          "BioShock The Collection",
          "Until Dawn: Rush of Blood",
          "Destiny: The Collection",
          "Sniper Elite 3",
          "METRO 2033",
          "Plants vs Zombies: Garden Warfare",
          "Plants vs. Zombies: Garden Warfare 2",
          "Call of Duty: Modern Warfare Remastered"
         ],
         "xaxis": "x",
         "y": {
          "bdata": "rkfhehQuLkDNzMzMzMwqQPYoXI/C9SBAj8L1KFwPIEAfhetRuB4eQArXo3A9Ch1ACtejcD0KF0ApXI/C9SgSQB+F61G4HhJAexSuR+F6EUBxPQrXo3ARQK5H4XoUrhBAj8L1KFyPEEA9CtejcD0QQIXrUbgehQ9A9ihcj8L1CEApXI/C9SgIQFyPwvUoXAdAcT0K16NwAUAzMzMzMzMBQIXrUbgehfs/7FG4HoXr+T/D9Shcj8L5P8P1KFyPwvU/exSuR+F69D+kcD0K16PwPylcj8L1KPA/hetRuB6F6z8zMzMzMzPrP/YoXI/C9eg/rkfhehSu5z/D9Shcj8LlPx+F61G4HuU/KVyPwvUo5D+PwvUoXI/iPw==",
          "dtype": "f8"
         },
         "yaxis": "y"
        },
        {
         "hovertemplate": "Genre=Action-Adventure<br>Game=%{x}<br>Global=%{y}<extra></extra>",
         "legendgroup": "Action-Adventure",
         "marker": {
          "color": "#00cc96",
          "pattern": {
           "shape": ""
          }
         },
         "name": "Action-Adventure",
         "orientation": "v",
         "showlegend": true,
         "textposition": "auto",
         "type": "bar",
         "x": [
          "Red Dead Redemption 2",
          "Spider-Man (PS4)",
          "The Last of Us",
          "Watch Dogs",
          "Assassin's Creed IV: Black Flag",
          "inFAMOUS: Second Son",
          "Mafia III",
          "Far Cry: Primal",
          "No Man's Sky",
          "Just Cause 3",
          "Tomb Raider (2013)",
          "Lego Star Wars: The Force Awakens",
          "The Last Guardian",
          "Metal Gear Solid: Ground Zeroes",
          "Shadow of the Colossus",
          "Disney Infinity 2.0: Marvel Super Heroes",
          "The LEGO Movie Videogame",
          "LEGO The Hobbit"
         ],
         "xaxis": "x",
         "y": {
          "bdata": "4XoUrkfhK0CF61G4HoUhQBSuR+F6FBtASOF6FK5HEUCF61G4HoUJQBSuR+F6FAhA9ihcj8L1BkDXo3A9CtcFQBSuR+F6FAJArkfhehSu/z8pXI/C9Sj4P/YoXI/C9fQ/pHA9Ctej9D8zMzMzMzPzPzMzMzMzM/M/AAAAAAAA6D+4HoXrUbjmP9ejcD0K1+M/",
          "dtype": "f8"
         },
         "yaxis": "y"
        },
        {
         "hovertemplate": "Genre=Sports<br>Game=%{x}<br>Global=%{y}<extra></extra>",
         "legendgroup": "Sports",
         "marker": {
          "color": "#ab63fa",
          "pattern": {
           "shape": ""
          }
         },
         "name": "Sports",
         "orientation": "v",
         "showlegend": true,
         "textposition": "auto",
         "type": "bar",
         "x": [
          "FIFA 18",
          "FIFA 17",
          "FIFA 16",
          "FIFA 15",
          "NBA 2K16",
          "NBA 2K17",
          "FIFA Soccer 14",
          "NBA 2K18",
          "Madden NFL 16",
          "Madden NFL 17",
          "Madden NFL 18",
          "NBA 2K15",
          "Madden NFL 15",
          "Rocket League",
          "NBA 2K14",
          "WWE 2K18",
          "EA Sports UFC 2",
          "WWE 2K16",
          "WWE 2K17",
          "WWE 2K15",
          "MLB The Show 17",
          "MLB The Show 18",
          "Steep",
          "MLB 15: The Show",
          "EA Sports UFC 3",
          "Madden NFL 25",
          "MLB 16: The Show",
          "Pro Evolution Soccer 2016",
          "Pro Evolution Soccer 2015",
          "Pro Evolution Soccer 2018",
          "Pro Evolution Soccer 2017",
          "MLB 14 The Show",
          "NHL 16",
          "NHL 15"
         ],
         "xaxis": "x",
         "y": {
          "bdata": "mpmZmZmZJ0DhehSuR+ElQHE9CtejcCBASOF6FK5HGUDXo3A9CtcPQClcj8L1KAxAcT0K16NwC0C4HoXrUbgKQGZmZmZmZgpAPQrXo3A9CkD2KFyPwvUEQOxRuB6F6wNAAAAAAAAAAkApXI/C9SgAQKRwPQrXo/g/SOF6FK5H9T/2KFyPwvX0P6RwPQrXo/Q/hetRuB6F8z+PwvUoXI/yP4/C9Shcj/I/9ihcj8L18D8pXI/C9SjwPylcj8L1KPA/CtejcD0K7z+4HoXrUbjuP7gehetRuO4/PQrXo3A96j9SuB6F61HoPwAAAAAAAOg/AAAAAAAA6D9cj8L1KFznPx+F61G4HuU/16NwPQrX4z8=",
          "dtype": "f8"
         },
         "yaxis": "y"
        },
        {
         "hovertemplate": "Genre=Role-Playing<br>Game=%{x}<br>Global=%{y}<extra></extra>",
         "legendgroup": "Role-Playing",
         "marker": {
          "color": "#FFA15A",
          "pattern": {
           "shape": ""
          }
         },
         "name": "Role-Playing",
         "orientation": "v",
         "showlegend": true,
         "textposition": "auto",
         "type": "bar",
         "x": [
          "Fallout 4",
          "The Witcher 3: Wild Hunt",
          "Final Fantasy XV",
          "The Elder Scrolls V: Skyrim",
          "Bloodborne",
          "Diablo III",
          "Dark Souls III",
          "Dragon Age III: Inquisition",
          "Dragon Quest XI",
          "Kingdom Hearts 1.5 + 2.5 Remix",
          "NieR Automata",
          "Persona 5",
          "Mass Effect: Andromeda",
          "South Park: The Fractured But Whole",
          "Kingdom Hearts HD 2.8 Final Chapter Prologue",
          "The Elder Scrolls V: Skyrim PSVR",
          "Final Fantasy XII: The Zodiac Age",
          "Final Fantasy Type-0",
          "Final Fantasy X/X-2 HD Remaster",
          "Ni no Kuni II: Revenant Kingdom",
          "Deus Ex: Mankind Divided",
          "Dark Souls II",
          "Tales of Berseria",
          "World of Final Fantasy"
         ],
         "xaxis": "x",
         "y": {
          "bdata": "9ihcj8L1IECPwvUoXI8VQEjhehSuRxRA4XoUrkfhCkDhehSuR+EIQI/C9ShcjwZAXI/C9ShcA0C4HoXrUbgCQFK4HoXrUQBAAAAAAAAA/D9cj8L1KFz7Pz0K16NwPfo/16NwPQrX9z/hehSuR+H2PzMzMzMzM/M/FK5H4XoU8j+amZmZmZnxP6RwPQrXo/A/zczMzMzM7D97FK5H4XrsPwrXo3A9Cuc/FK5H4XoU5j/NzMzMzMzkP9ejcD0K1+M/",
          "dtype": "f8"
         },
         "yaxis": "y"
        },
        {
         "hovertemplate": "Genre=Misc<br>Game=%{x}<br>Global=%{y}<extra></extra>",
         "legendgroup": "Misc",
         "marker": {
          "color": "#19d3f3",
          "pattern": {
           "shape": ""
          }
         },
         "name": "Misc",
         "orientation": "v",
         "showlegend": true,
         "textposition": "auto",
         "type": "bar",
         "x": [
          "MineCraft",
          "PlayStation VR Worlds",
          "LEGO Worlds"
         ],
         "xaxis": "x",
         "y": {
          "bdata": "UrgehetRGUBI4XoUrkcBQD0K16NwPfI/",
          "dtype": "f8"
         },
         "yaxis": "y"
        },
        {
         "hovertemplate": "Genre=Platform<br>Game=%{x}<br>Global=%{y}<extra></extra>",
         "legendgroup": "Platform",
         "marker": {
          "color": "#FF6692",
          "pattern": {
           "shape": ""
          }
         },
         "name": "Platform",
         "orientation": "v",
         "showlegend": true,
         "textposition": "auto",
         "type": "bar",
         "x": [
          "Crash Bandicoot N. Sane Trilogy",
          "Ratchet & Clank (2016)",
          "LittleBigPlanet 3",
          "Knack",
          "Rayman Legends",
          "LEGO City Undercover"
         ],
         "xaxis": "x",
         "y": {
          "bdata": "UrgehetRE0AK16NwPQoDQHsUrkfhegBAFK5H4XoU/j8AAAAAAAD4PwAAAAAAAOg/",
          "dtype": "f8"
         },
         "yaxis": "y"
        },
        {
         "hovertemplate": "Genre=Racing<br>Game=%{x}<br>Global=%{y}<extra></extra>",
         "legendgroup": "Racing",
         "marker": {
          "color": "#B6E880",
          "pattern": {
           "shape": ""
          }
         },
         "name": "Racing",
         "orientation": "v",
         "showlegend": true,
         "textposition": "auto",
         "type": "bar",
         "x": [
          "Gran Turismo Sport",
          "Need for Speed (2015)",
          "DriveClub",
          "Need for Speed: Payback",
          "Need for Speed Rivals",
          "The Crew",
          "Project CARS",
          "The Crew 2",
          "F1 2016 (Codemasters)",
          "WipEout Omega Collection",
          "F1 2015",
          "F1 2017"
         ],
         "xaxis": "x",
         "y": {
          "bdata": "KVyPwvUoDkDD9Shcj8IFQPYoXI/C9QJAcT0K16NwAUBcj8L1KFwBQKRwPQrXo/w/exSuR+F69D89CtejcD3qP/YoXI/C9eg/CtejcD0K5z/D9Shcj8LlP9ejcD0K1+M/",
          "dtype": "f8"
         },
         "yaxis": "y"
        },
        {
         "hovertemplate": "Genre=Fighting<br>Game=%{x}<br>Global=%{y}<extra></extra>",
         "legendgroup": "Fighting",
         "marker": {
          "color": "#FF97FF",
          "pattern": {
           "shape": ""
          }
         },
         "name": "Fighting",
         "orientation": "v",
         "showlegend": true,
         "textposition": "auto",
         "type": "bar",
         "x": [
          "Mortal Kombat X",
          "Injustice 2",
          "Tekken 7",
          "Naruto Shippuden: Ultimate Ninja Storm 4",
          "Dragon Ball Fighter Z",
          "Street Fighter V",
          "Dragon Ball: XenoVerse",
          "EA Sports UFC",
          "Injustice: Gods Among Us",
          "Marvel vs. Capcom: Infinite",
          "One Piece: Burning Blood"
         ],
         "xaxis": "x",
         "y": {
          "bdata": "7FG4HoXrC0CF61G4HoX7PzMzMzMzM/s/pHA9Ctej+D9cj8L1KFz3Pz0K16NwPfY/CtejcD0K8z/D9Shcj8LxP1yPwvUoXO8/ZmZmZmZm5j/NzMzMzMzkPw==",
          "dtype": "f8"
         },
         "yaxis": "y"
        },
        {
         "hovertemplate": "Genre=Adventure<br>Game=%{x}<br>Global=%{y}<extra></extra>",
         "legendgroup": "Adventure",
         "marker": {
          "color": "#FECB52",
          "pattern": {
           "shape": ""
          }
         },
         "name": "Adventure",
         "orientation": "v",
         "showlegend": true,
         "textposition": "auto",
         "type": "bar",
         "x": [
          "Rise of the Tomb Raider",
          "Until Dawn",
          "Detroit: Become Human",
          "Alien: Isolation",
          "Minecraft: Story Mode",
          "Yakuza 6",
          "Yakuza Zero: The Place of Oath",
          "L.A. Noire",
          "Hidden Agenda"
         ],
         "xaxis": "x",
         "y": {
          "bdata": "j8L1KFyPAEBmZmZmZmb+Px+F61G4Hvk/cT0K16Nw8T/Xo3A9CtfrPxSuR+F6FOY/zczMzMzM5D8zMzMzMzPjP+F6FK5H4eI/",
          "dtype": "f8"
         },
         "yaxis": "y"
        },
        {
         "hovertemplate": "Genre=MMO<br>Game=%{x}<br>Global=%{y}<extra></extra>",
         "legendgroup": "MMO",
         "marker": {
          "color": "#636efa",
          "pattern": {
           "shape": ""
          }
         },
         "name": "MMO",
         "orientation": "v",
         "showlegend": true,
         "textposition": "auto",
         "type": "bar",
         "x": [
          "The Elder Scrolls Online",
          "Final Fantasy XIV: A Realm Reborn"
         ],
         "xaxis": "x",
         "y": {
          "bdata": "ZmZmZmZmAEBI4XoUrkfpPw==",
          "dtype": "f8"
         },
         "yaxis": "y"
        },
        {
         "hovertemplate": "Genre=Simulation<br>Game=%{x}<br>Global=%{y}<extra></extra>",
         "legendgroup": "Simulation",
         "marker": {
          "color": "#EF553B",
          "pattern": {
           "shape": ""
          }
         },
         "name": "Simulation",
         "orientation": "v",
         "showlegend": true,
         "textposition": "auto",
         "type": "bar",
         "x": [
          "The Sims 4",
          "Farming Simulator 17"
         ],
         "xaxis": "x",
         "y": {
          "bdata": "PQrXo3A99j8zMzMzMzPrPw==",
          "dtype": "f8"
         },
         "yaxis": "y"
        },
        {
         "hovertemplate": "Genre=Music<br>Game=%{x}<br>Global=%{y}<extra></extra>",
         "legendgroup": "Music",
         "marker": {
          "color": "#00cc96",
          "pattern": {
           "shape": ""
          }
         },
         "name": "Music",
         "orientation": "v",
         "showlegend": true,
         "textposition": "auto",
         "type": "bar",
         "x": [
          "Guitar Hero Live",
          "Rocksmith 2014"
         ],
         "xaxis": "x",
         "y": {
          "bdata": "XI/C9Shc8z9xPQrXo3DlPw==",
          "dtype": "f8"
         },
         "yaxis": "y"
        },
        {
         "hovertemplate": "Genre=Party<br>Game=%{x}<br>Global=%{y}<extra></extra>",
         "legendgroup": "Party",
         "marker": {
          "color": "#ab63fa",
          "pattern": {
           "shape": ""
          }
         },
         "name": "Party",
         "orientation": "v",
         "showlegend": true,
         "textposition": "auto",
         "type": "bar",
         "x": [
          "Knowledge is Power"
         ],
         "xaxis": "x",
         "y": {
          "bdata": "hetRuB6F4z8=",
          "dtype": "f8"
         },
         "yaxis": "y"
        }
       ],
       "layout": {
        "barmode": "relative",
        "legend": {
         "title": {
          "text": "Genre"
         },
         "tracegroupgap": 0
        },
        "template": {
         "data": {
          "bar": [
           {
            "error_x": {
             "color": "#2a3f5f"
            },
            "error_y": {
             "color": "#2a3f5f"
            },
            "marker": {
             "line": {
              "color": "#E5ECF6",
              "width": 0.5
             },
             "pattern": {
              "fillmode": "overlay",
              "size": 10,
              "solidity": 0.2
             }
            },
            "type": "bar"
           }
          ],
          "barpolar": [
           {
            "marker": {
             "line": {
              "color": "#E5ECF6",
              "width": 0.5
             },
             "pattern": {
              "fillmode": "overlay",
              "size": 10,
              "solidity": 0.2
             }
            },
            "type": "barpolar"
           }
          ],
          "carpet": [
           {
            "aaxis": {
             "endlinecolor": "#2a3f5f",
             "gridcolor": "white",
             "linecolor": "white",
             "minorgridcolor": "white",
             "startlinecolor": "#2a3f5f"
            },
            "baxis": {
             "endlinecolor": "#2a3f5f",
             "gridcolor": "white",
             "linecolor": "white",
             "minorgridcolor": "white",
             "startlinecolor": "#2a3f5f"
            },
            "type": "carpet"
           }
          ],
          "choropleth": [
           {
            "colorbar": {
             "outlinewidth": 0,
             "ticks": ""
            },
            "type": "choropleth"
           }
          ],
          "contour": [
           {
            "colorbar": {
             "outlinewidth": 0,
             "ticks": ""
            },
            "colorscale": [
             [
              0,
              "#0d0887"
             ],
             [
              0.1111111111111111,
              "#46039f"
             ],
             [
              0.2222222222222222,
              "#7201a8"
             ],
             [
              0.3333333333333333,
              "#9c179e"
             ],
             [
              0.4444444444444444,
              "#bd3786"
             ],
             [
              0.5555555555555556,
              "#d8576b"
             ],
             [
              0.6666666666666666,
              "#ed7953"
             ],
             [
              0.7777777777777778,
              "#fb9f3a"
             ],
             [
              0.8888888888888888,
              "#fdca26"
             ],
             [
              1,
              "#f0f921"
             ]
            ],
            "type": "contour"
           }
          ],
          "contourcarpet": [
           {
            "colorbar": {
             "outlinewidth": 0,
             "ticks": ""
            },
            "type": "contourcarpet"
           }
          ],
          "heatmap": [
           {
            "colorbar": {
             "outlinewidth": 0,
             "ticks": ""
            },
            "colorscale": [
             [
              0,
              "#0d0887"
             ],
             [
              0.1111111111111111,
              "#46039f"
             ],
             [
              0.2222222222222222,
              "#7201a8"
             ],
             [
              0.3333333333333333,
              "#9c179e"
             ],
             [
              0.4444444444444444,
              "#bd3786"
             ],
             [
              0.5555555555555556,
              "#d8576b"
             ],
             [
              0.6666666666666666,
              "#ed7953"
             ],
             [
              0.7777777777777778,
              "#fb9f3a"
             ],
             [
              0.8888888888888888,
              "#fdca26"
             ],
             [
              1,
              "#f0f921"
             ]
            ],
            "type": "heatmap"
           }
          ],
          "histogram": [
           {
            "marker": {
             "pattern": {
              "fillmode": "overlay",
              "size": 10,
              "solidity": 0.2
             }
            },
            "type": "histogram"
           }
          ],
          "histogram2d": [
           {
            "colorbar": {
             "outlinewidth": 0,
             "ticks": ""
            },
            "colorscale": [
             [
              0,
              "#0d0887"
             ],
             [
              0.1111111111111111,
              "#46039f"
             ],
             [
              0.2222222222222222,
              "#7201a8"
             ],
             [
              0.3333333333333333,
              "#9c179e"
             ],
             [
              0.4444444444444444,
              "#bd3786"
             ],
             [
              0.5555555555555556,
              "#d8576b"
             ],
             [
              0.6666666666666666,
              "#ed7953"
             ],
             [
              0.7777777777777778,
              "#fb9f3a"
             ],
             [
              0.8888888888888888,
              "#fdca26"
             ],
             [
              1,
              "#f0f921"
             ]
            ],
            "type": "histogram2d"
           }
          ],
          "histogram2dcontour": [
           {
            "colorbar": {
             "outlinewidth": 0,
             "ticks": ""
            },
            "colorscale": [
             [
              0,
              "#0d0887"
             ],
             [
              0.1111111111111111,
              "#46039f"
             ],
             [
              0.2222222222222222,
              "#7201a8"
             ],
             [
              0.3333333333333333,
              "#9c179e"
             ],
             [
              0.4444444444444444,
              "#bd3786"
             ],
             [
              0.5555555555555556,
              "#d8576b"
             ],
             [
              0.6666666666666666,
              "#ed7953"
             ],
             [
              0.7777777777777778,
              "#fb9f3a"
             ],
             [
              0.8888888888888888,
              "#fdca26"
             ],
             [
              1,
              "#f0f921"
             ]
            ],
            "type": "histogram2dcontour"
           }
          ],
          "mesh3d": [
           {
            "colorbar": {
             "outlinewidth": 0,
             "ticks": ""
            },
            "type": "mesh3d"
           }
          ],
          "parcoords": [
           {
            "line": {
             "colorbar": {
              "outlinewidth": 0,
              "ticks": ""
             }
            },
            "type": "parcoords"
           }
          ],
          "pie": [
           {
            "automargin": true,
            "type": "pie"
           }
          ],
          "scatter": [
           {
            "fillpattern": {
             "fillmode": "overlay",
             "size": 10,
             "solidity": 0.2
            },
            "type": "scatter"
           }
          ],
          "scatter3d": [
           {
            "line": {
             "colorbar": {
              "outlinewidth": 0,
              "ticks": ""
             }
            },
            "marker": {
             "colorbar": {
              "outlinewidth": 0,
              "ticks": ""
             }
            },
            "type": "scatter3d"
           }
          ],
          "scattercarpet": [
           {
            "marker": {
             "colorbar": {
              "outlinewidth": 0,
              "ticks": ""
             }
            },
            "type": "scattercarpet"
           }
          ],
          "scattergeo": [
           {
            "marker": {
             "colorbar": {
              "outlinewidth": 0,
              "ticks": ""
             }
            },
            "type": "scattergeo"
           }
          ],
          "scattergl": [
           {
            "marker": {
             "colorbar": {
              "outlinewidth": 0,
              "ticks": ""
             }
            },
            "type": "scattergl"
           }
          ],
          "scattermap": [
           {
            "marker": {
             "colorbar": {
              "outlinewidth": 0,
              "ticks": ""
             }
            },
            "type": "scattermap"
           }
          ],
          "scattermapbox": [
           {
            "marker": {
             "colorbar": {
              "outlinewidth": 0,
              "ticks": ""
             }
            },
            "type": "scattermapbox"
           }
          ],
          "scatterpolar": [
           {
            "marker": {
             "colorbar": {
              "outlinewidth": 0,
              "ticks": ""
             }
            },
            "type": "scatterpolar"
           }
          ],
          "scatterpolargl": [
           {
            "marker": {
             "colorbar": {
              "outlinewidth": 0,
              "ticks": ""
             }
            },
            "type": "scatterpolargl"
           }
          ],
          "scatterternary": [
           {
            "marker": {
             "colorbar": {
              "outlinewidth": 0,
              "ticks": ""
             }
            },
            "type": "scatterternary"
           }
          ],
          "surface": [
           {
            "colorbar": {
             "outlinewidth": 0,
             "ticks": ""
            },
            "colorscale": [
             [
              0,
              "#0d0887"
             ],
             [
              0.1111111111111111,
              "#46039f"
             ],
             [
              0.2222222222222222,
              "#7201a8"
             ],
             [
              0.3333333333333333,
              "#9c179e"
             ],
             [
              0.4444444444444444,
              "#bd3786"
             ],
             [
              0.5555555555555556,
              "#d8576b"
             ],
             [
              0.6666666666666666,
              "#ed7953"
             ],
             [
              0.7777777777777778,
              "#fb9f3a"
             ],
             [
              0.8888888888888888,
              "#fdca26"
             ],
             [
              1,
              "#f0f921"
             ]
            ],
            "type": "surface"
           }
          ],
          "table": [
           {
            "cells": {
             "fill": {
              "color": "#EBF0F8"
             },
             "line": {
              "color": "white"
             }
            },
            "header": {
             "fill": {
              "color": "#C8D4E3"
             },
             "line": {
              "color": "white"
             }
            },
            "type": "table"
           }
          ]
         },
         "layout": {
          "annotationdefaults": {
           "arrowcolor": "#2a3f5f",
           "arrowhead": 0,
           "arrowwidth": 1
          },
          "autotypenumbers": "strict",
          "coloraxis": {
           "colorbar": {
            "outlinewidth": 0,
            "ticks": ""
           }
          },
          "colorscale": {
           "diverging": [
            [
             0,
             "#8e0152"
            ],
            [
             0.1,
             "#c51b7d"
            ],
            [
             0.2,
             "#de77ae"
            ],
            [
             0.3,
             "#f1b6da"
            ],
            [
             0.4,
             "#fde0ef"
            ],
            [
             0.5,
             "#f7f7f7"
            ],
            [
             0.6,
             "#e6f5d0"
            ],
            [
             0.7,
             "#b8e186"
            ],
            [
             0.8,
             "#7fbc41"
            ],
            [
             0.9,
             "#4d9221"
            ],
            [
             1,
             "#276419"
            ]
           ],
           "sequential": [
            [
             0,
             "#0d0887"
            ],
            [
             0.1111111111111111,
             "#46039f"
            ],
            [
             0.2222222222222222,
             "#7201a8"
            ],
            [
             0.3333333333333333,
             "#9c179e"
            ],
            [
             0.4444444444444444,
             "#bd3786"
            ],
            [
             0.5555555555555556,
             "#d8576b"
            ],
            [
             0.6666666666666666,
             "#ed7953"
            ],
            [
             0.7777777777777778,
             "#fb9f3a"
            ],
            [
             0.8888888888888888,
             "#fdca26"
            ],
            [
             1,
             "#f0f921"
            ]
           ],
           "sequentialminus": [
            [
             0,
             "#0d0887"
            ],
            [
             0.1111111111111111,
             "#46039f"
            ],
            [
             0.2222222222222222,
             "#7201a8"
            ],
            [
             0.3333333333333333,
             "#9c179e"
            ],
            [
             0.4444444444444444,
             "#bd3786"
            ],
            [
             0.5555555555555556,
             "#d8576b"
            ],
            [
             0.6666666666666666,
             "#ed7953"
            ],
            [
             0.7777777777777778,
             "#fb9f3a"
            ],
            [
             0.8888888888888888,
             "#fdca26"
            ],
            [
             1,
             "#f0f921"
            ]
           ]
          },
          "colorway": [
           "#636efa",
           "#EF553B",
           "#00cc96",
           "#ab63fa",
           "#FFA15A",
           "#19d3f3",
           "#FF6692",
           "#B6E880",
           "#FF97FF",
           "#FECB52"
          ],
          "font": {
           "color": "#2a3f5f"
          },
          "geo": {
           "bgcolor": "white",
           "lakecolor": "white",
           "landcolor": "#E5ECF6",
           "showlakes": true,
           "showland": true,
           "subunitcolor": "white"
          },
          "hoverlabel": {
           "align": "left"
          },
          "hovermode": "closest",
          "mapbox": {
           "style": "light"
          },
          "paper_bgcolor": "white",
          "plot_bgcolor": "#E5ECF6",
          "polar": {
           "angularaxis": {
            "gridcolor": "white",
            "linecolor": "white",
            "ticks": ""
           },
           "bgcolor": "#E5ECF6",
           "radialaxis": {
            "gridcolor": "white",
            "linecolor": "white",
            "ticks": ""
           }
          },
          "scene": {
           "xaxis": {
            "backgroundcolor": "#E5ECF6",
            "gridcolor": "white",
            "gridwidth": 2,
            "linecolor": "white",
            "showbackground": true,
            "ticks": "",
            "zerolinecolor": "white"
           },
           "yaxis": {
            "backgroundcolor": "#E5ECF6",
            "gridcolor": "white",
            "gridwidth": 2,
            "linecolor": "white",
            "showbackground": true,
            "ticks": "",
            "zerolinecolor": "white"
           },
           "zaxis": {
            "backgroundcolor": "#E5ECF6",
            "gridcolor": "white",
            "gridwidth": 2,
            "linecolor": "white",
            "showbackground": true,
            "ticks": "",
            "zerolinecolor": "white"
           }
          },
          "shapedefaults": {
           "line": {
            "color": "#2a3f5f"
           }
          },
          "ternary": {
           "aaxis": {
            "gridcolor": "white",
            "linecolor": "white",
            "ticks": ""
           },
           "baxis": {
            "gridcolor": "white",
            "linecolor": "white",
            "ticks": ""
           },
           "bgcolor": "#E5ECF6",
           "caxis": {
            "gridcolor": "white",
            "linecolor": "white",
            "ticks": ""
           }
          },
          "title": {
           "x": 0.05
          },
          "xaxis": {
           "automargin": true,
           "gridcolor": "white",
           "linecolor": "white",
           "ticks": "",
           "title": {
            "standoff": 15
           },
           "zerolinecolor": "white",
           "zerolinewidth": 2
          },
          "yaxis": {
           "automargin": true,
           "gridcolor": "white",
           "linecolor": "white",
           "ticks": "",
           "title": {
            "standoff": 15
           },
           "zerolinecolor": "white",
           "zerolinewidth": 2
          }
         }
        },
        "title": {
         "text": "Top 10 PS4 Games by Global Sales"
        },
        "xaxis": {
         "anchor": "y",
         "domain": [
          0,
          1
         ],
         "title": {
          "text": "Game"
         }
        },
        "yaxis": {
         "anchor": "x",
         "domain": [
          0,
          1
         ],
         "title": {
          "text": "Global"
         }
        }
       }
      }
     },
     "metadata": {},
     "output_type": "display_data"
    }
   ],
   "source": [
    "top_games = df.sort_values(\"Global\", ascending=False).head(200)\n",
    "\n",
    "fig = px.bar(\n",
    "    top_games,\n",
    "    x=\"Game\", \n",
    "    y=\"Global\", \n",
    "    color=\"Genre\",\n",
    "    title=\"Top 10 PS4 Games by Global Sales\"\n",
    ")\n",
    "fig.show()"
   ]
  },
  {
   "cell_type": "code",
   "execution_count": null,
   "id": "c4690992",
   "metadata": {},
   "outputs": [],
   "source": []
  },
  {
   "cell_type": "code",
   "execution_count": null,
   "id": "e1b066e5",
   "metadata": {},
   "outputs": [],
   "source": []
  }
 ],
 "metadata": {
  "kernelspec": {
   "display_name": "base",
   "language": "python",
   "name": "python3"
  },
  "language_info": {
   "codemirror_mode": {
    "name": "ipython",
    "version": 3
   },
   "file_extension": ".py",
   "mimetype": "text/x-python",
   "name": "python",
   "nbconvert_exporter": "python",
   "pygments_lexer": "ipython3",
   "version": "3.11.7"
  }
 },
 "nbformat": 4,
 "nbformat_minor": 5
}
